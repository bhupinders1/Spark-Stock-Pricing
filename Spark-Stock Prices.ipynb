{
 "cells": [
  {
   "cell_type": "code",
   "execution_count": 1,
   "id": "fee9d7d4-7f29-4658-9dc7-5cfbc4162cdc",
   "metadata": {},
   "outputs": [],
   "source": [
    "import os\n",
    "os.environ['SPARK_HOME'] = r\"C:\\Spark\\spark-3.5.0-bin-hadoop3\"\n",
    "os.environ['PYSPARK_DRIVER_PYTHON'] = 'jupyter'\n",
    "os.environ['PYSPARK_DRIVER_PYTHON_OPTS'] = 'lab'\n",
    "os.environ['PYSPARK_PYTHON'] = 'python'"
   ]
  },
  {
   "cell_type": "code",
   "execution_count": 2,
   "id": "e11cd246-1c4f-45ab-9b08-f1b47896e881",
   "metadata": {},
   "outputs": [],
   "source": [
    "from pyspark.sql import SparkSession"
   ]
  },
  {
   "cell_type": "code",
   "execution_count": 3,
   "id": "a8379a76-fdf1-42c0-8095-4dd8193c22c7",
   "metadata": {},
   "outputs": [],
   "source": [
    "spark = SparkSession.builder \\\n",
    "        .appName(\"PySpark hands-on\") \\\n",
    "        .getOrCreate()"
   ]
  },
  {
   "cell_type": "code",
   "execution_count": 4,
   "id": "56f02e6d-edd6-4180-9dba-76a6ed10c688",
   "metadata": {},
   "outputs": [],
   "source": [
    "import pyspark\n",
    "from pyspark.sql import SparkSession"
   ]
  },
  {
   "cell_type": "code",
   "execution_count": 5,
   "id": "ab3afcd1-b3a5-40f5-81d4-6c732847225f",
   "metadata": {},
   "outputs": [
    {
     "name": "stdout",
     "output_type": "stream",
     "text": [
      "+-------+---+\n",
      "|   Name|Age|\n",
      "+-------+---+\n",
      "|  Alice| 25|\n",
      "|    Bob| 30|\n",
      "|Charlie| 40|\n",
      "+-------+---+\n",
      "\n"
     ]
    }
   ],
   "source": [
    "data = [(\"Alice\", 25), (\"Bob\", 30),  (\"Charlie\",40)]\n",
    "df = spark.createDataFrame(data, [\"Name\",\"Age\"])\n",
    "df.show()"
   ]
  },
  {
   "cell_type": "code",
   "execution_count": 6,
   "id": "5afca1c2-05dc-4cbe-9cb8-ad7e7a1fc91e",
   "metadata": {},
   "outputs": [],
   "source": [
    "from pyspark import SparkContext\n",
    "sc=SparkContext.getOrCreate()"
   ]
  },
  {
   "cell_type": "code",
   "execution_count": 7,
   "id": "9b80035c-2bfb-423e-a987-0f1fabbbe938",
   "metadata": {},
   "outputs": [
    {
     "data": {
      "text/plain": [
       "['Date,Open,High,Low,Close,AdjClose,Volume',\n",
       " '2019-07-15,248.000000,254.419998,244.860001,253.500000,253.500000,11000100',\n",
       " '2019-07-16,249.300003,253.529999,247.929993,252.380005,252.380005,8149000',\n",
       " '2019-07-17,255.669998,258.309998,253.350006,254.860001,254.860001,9764700',\n",
       " '2019-07-18,255.050003,255.750000,251.889999,253.539993,253.539993,4764500']"
      ]
     },
     "execution_count": 7,
     "metadata": {},
     "output_type": "execute_result"
    }
   ],
   "source": [
    "tesla_file  = 'TSLA.csv'\n",
    "tesla_rdd = sc.textFile(tesla_file)\n",
    "tesla_rdd.take(5)"
   ]
  },
  {
   "cell_type": "code",
   "execution_count": 8,
   "id": "7ee0b932-4d18-43e9-b1c8-536cdd5f6684",
   "metadata": {},
   "outputs": [
    {
     "data": {
      "text/plain": [
       "pyspark.rdd.RDD"
      ]
     },
     "execution_count": 8,
     "metadata": {},
     "output_type": "execute_result"
    }
   ],
   "source": [
    "type(tesla_rdd)"
   ]
  },
  {
   "cell_type": "code",
   "execution_count": 9,
   "id": "cc065116-dc99-4ded-b909-64a9f6c42642",
   "metadata": {},
   "outputs": [
    {
     "name": "stdout",
     "output_type": "stream",
     "text": [
      "[['Date', 'Open', 'High', 'Low', 'Close', 'AdjClose', 'Volume'], ['2019-07-15', '248.000000', '254.419998', '244.860001', '253.500000', '253.500000', '11000100']]\n",
      "<class 'pyspark.rdd.PipelinedRDD'>\n"
     ]
    }
   ],
   "source": [
    "tesla_csv_rdd = tesla_rdd.map(lambda row: row.split(\",\"))\n",
    "print(tesla_csv_rdd.take(2))\n",
    "print(type(tesla_csv_rdd))"
   ]
  },
  {
   "cell_type": "code",
   "execution_count": 10,
   "id": "4862c0aa-d923-497f-8b75-698a87b439a9",
   "metadata": {},
   "outputs": [
    {
     "data": {
      "text/plain": [
       "7"
      ]
     },
     "execution_count": 10,
     "metadata": {},
     "output_type": "execute_result"
    }
   ],
   "source": [
    "len(tesla_csv_rdd.take(1)[0])"
   ]
  },
  {
   "cell_type": "code",
   "execution_count": 11,
   "id": "f607baeb-aa30-4e65-ac4d-b65dd9eec6cf",
   "metadata": {},
   "outputs": [
    {
     "name": "stderr",
     "output_type": "stream",
     "text": [
      "c:\\users\\bhupi\\pyspark_tutorial\\myenv\\lib\\site-packages\\pyspark\\sql\\context.py:113: FutureWarning: Deprecated in 3.0.0. Use SparkSession.builder.getOrCreate() instead.\n",
      "  warnings.warn(\n"
     ]
    }
   ],
   "source": [
    "from pyspark.sql import SQLContext\n",
    "sqlContext = SQLContext(sc)\n"
   ]
  },
  {
   "cell_type": "code",
   "execution_count": 12,
   "id": "04d162a6-ea48-40d3-90c2-93c99a0fda94",
   "metadata": {},
   "outputs": [],
   "source": [
    "tesla_df = sqlContext.read.load(tesla_file, \n",
    "                      format='com.databricks.spark.csv', \n",
    "                      header='true', \n",
    "                      inferSchema='true')"
   ]
  },
  {
   "cell_type": "code",
   "execution_count": 13,
   "id": "e5003cb5-1f04-4a9c-825f-62dfeb050921",
   "metadata": {},
   "outputs": [
    {
     "data": {
      "text/plain": [
       "253"
      ]
     },
     "execution_count": 13,
     "metadata": {},
     "output_type": "execute_result"
    }
   ],
   "source": [
    "tesla_df.count()"
   ]
  },
  {
   "cell_type": "code",
   "execution_count": 14,
   "id": "84ef12d1-4dda-4349-9bc2-353050b8ba81",
   "metadata": {},
   "outputs": [
    {
     "data": {
      "text/plain": [
       "[Row(Date=datetime.date(2019, 7, 15), Open=248.0, High=254.419998, Low=244.860001, Close=253.5, AdjClose=253.5, Volume=11000100),\n",
       " Row(Date=datetime.date(2019, 7, 16), Open=249.300003, High=253.529999, Low=247.929993, Close=252.380005, AdjClose=252.380005, Volume=8149000),\n",
       " Row(Date=datetime.date(2019, 7, 17), Open=255.669998, High=258.309998, Low=253.350006, Close=254.860001, AdjClose=254.860001, Volume=9764700),\n",
       " Row(Date=datetime.date(2019, 7, 18), Open=255.050003, High=255.75, Low=251.889999, Close=253.539993, AdjClose=253.539993, Volume=4764500),\n",
       " Row(Date=datetime.date(2019, 7, 19), Open=255.690002, High=259.959991, Low=254.619995, Close=258.179993, AdjClose=258.179993, Volume=7048400),\n",
       " Row(Date=datetime.date(2019, 7, 22), Open=258.75, High=262.149994, Low=254.190002, Close=255.679993, AdjClose=255.679993, Volume=6842400),\n",
       " Row(Date=datetime.date(2019, 7, 23), Open=256.709991, High=260.480011, Low=254.5, Close=260.170013, AdjClose=260.170013, Volume=5023100),\n",
       " Row(Date=datetime.date(2019, 7, 24), Open=259.170013, High=266.070007, Low=258.160004, Close=264.880005, AdjClose=264.880005, Volume=11072800),\n",
       " Row(Date=datetime.date(2019, 7, 25), Open=233.5, High=234.5, Low=225.550003, Close=228.820007, AdjClose=228.820007, Volume=22418300),\n",
       " Row(Date=datetime.date(2019, 7, 26), Open=226.919998, High=230.259995, Low=222.25, Close=228.039993, AdjClose=228.039993, Volume=10027700)]"
      ]
     },
     "execution_count": 14,
     "metadata": {},
     "output_type": "execute_result"
    }
   ],
   "source": [
    "tesla_df.take(10)"
   ]
  },
  {
   "cell_type": "code",
   "execution_count": 15,
   "id": "b7f8b84d-1b53-4547-8e5f-5b91e660cc3a",
   "metadata": {},
   "outputs": [
    {
     "name": "stdout",
     "output_type": "stream",
     "text": [
      "root\n",
      " |-- Date: date (nullable = true)\n",
      " |-- Open: double (nullable = true)\n",
      " |-- High: double (nullable = true)\n",
      " |-- Low: double (nullable = true)\n",
      " |-- Close: double (nullable = true)\n",
      " |-- AdjClose: double (nullable = true)\n",
      " |-- Volume: integer (nullable = true)\n",
      "\n"
     ]
    }
   ],
   "source": [
    "tesla_df.printSchema()"
   ]
  },
  {
   "cell_type": "code",
   "execution_count": 16,
   "id": "b12027d6-e4f2-4dd2-bc9d-5986ea096611",
   "metadata": {},
   "outputs": [
    {
     "name": "stdout",
     "output_type": "stream",
     "text": [
      "Requirement already satisfied: pandas in c:\\users\\bhupi\\pyspark_tutorial\\myenv\\lib\\site-packages (2.2.1)\n",
      "Requirement already satisfied: numpy<2,>=1.22.4 in c:\\users\\bhupi\\pyspark_tutorial\\myenv\\lib\\site-packages (from pandas) (1.26.4)\n",
      "Requirement already satisfied: python-dateutil>=2.8.2 in c:\\users\\bhupi\\pyspark_tutorial\\myenv\\lib\\site-packages (from pandas) (2.9.0.post0)\n",
      "Requirement already satisfied: pytz>=2020.1 in c:\\users\\bhupi\\pyspark_tutorial\\myenv\\lib\\site-packages (from pandas) (2024.1)\n",
      "Requirement already satisfied: tzdata>=2022.7 in c:\\users\\bhupi\\pyspark_tutorial\\myenv\\lib\\site-packages (from pandas) (2024.1)\n",
      "Requirement already satisfied: six>=1.5 in c:\\users\\bhupi\\pyspark_tutorial\\myenv\\lib\\site-packages (from python-dateutil>=2.8.2->pandas) (1.16.0)\n"
     ]
    }
   ],
   "source": [
    "!pip install pandas\n",
    "\n",
    "import pandas\n"
   ]
  },
  {
   "cell_type": "code",
   "execution_count": 17,
   "id": "8cd4bb88-6f4a-4bf1-b1de-c26d2d26ac64",
   "metadata": {},
   "outputs": [
    {
     "data": {
      "text/html": [
       "<div>\n",
       "<style scoped>\n",
       "    .dataframe tbody tr th:only-of-type {\n",
       "        vertical-align: middle;\n",
       "    }\n",
       "\n",
       "    .dataframe tbody tr th {\n",
       "        vertical-align: top;\n",
       "    }\n",
       "\n",
       "    .dataframe thead th {\n",
       "        text-align: right;\n",
       "    }\n",
       "</style>\n",
       "<table border=\"1\" class=\"dataframe\">\n",
       "  <thead>\n",
       "    <tr style=\"text-align: right;\">\n",
       "      <th></th>\n",
       "      <th>Date</th>\n",
       "      <th>Open</th>\n",
       "      <th>High</th>\n",
       "      <th>Low</th>\n",
       "      <th>Close</th>\n",
       "      <th>AdjClose</th>\n",
       "      <th>Volume</th>\n",
       "    </tr>\n",
       "  </thead>\n",
       "  <tbody>\n",
       "    <tr>\n",
       "      <th>0</th>\n",
       "      <td>2019-07-15</td>\n",
       "      <td>248.000000</td>\n",
       "      <td>254.419998</td>\n",
       "      <td>244.860001</td>\n",
       "      <td>253.500000</td>\n",
       "      <td>253.500000</td>\n",
       "      <td>11000100</td>\n",
       "    </tr>\n",
       "    <tr>\n",
       "      <th>1</th>\n",
       "      <td>2019-07-16</td>\n",
       "      <td>249.300003</td>\n",
       "      <td>253.529999</td>\n",
       "      <td>247.929993</td>\n",
       "      <td>252.380005</td>\n",
       "      <td>252.380005</td>\n",
       "      <td>8149000</td>\n",
       "    </tr>\n",
       "    <tr>\n",
       "      <th>2</th>\n",
       "      <td>2019-07-17</td>\n",
       "      <td>255.669998</td>\n",
       "      <td>258.309998</td>\n",
       "      <td>253.350006</td>\n",
       "      <td>254.860001</td>\n",
       "      <td>254.860001</td>\n",
       "      <td>9764700</td>\n",
       "    </tr>\n",
       "    <tr>\n",
       "      <th>3</th>\n",
       "      <td>2019-07-18</td>\n",
       "      <td>255.050003</td>\n",
       "      <td>255.750000</td>\n",
       "      <td>251.889999</td>\n",
       "      <td>253.539993</td>\n",
       "      <td>253.539993</td>\n",
       "      <td>4764500</td>\n",
       "    </tr>\n",
       "    <tr>\n",
       "      <th>4</th>\n",
       "      <td>2019-07-19</td>\n",
       "      <td>255.690002</td>\n",
       "      <td>259.959991</td>\n",
       "      <td>254.619995</td>\n",
       "      <td>258.179993</td>\n",
       "      <td>258.179993</td>\n",
       "      <td>7048400</td>\n",
       "    </tr>\n",
       "    <tr>\n",
       "      <th>5</th>\n",
       "      <td>2019-07-22</td>\n",
       "      <td>258.750000</td>\n",
       "      <td>262.149994</td>\n",
       "      <td>254.190002</td>\n",
       "      <td>255.679993</td>\n",
       "      <td>255.679993</td>\n",
       "      <td>6842400</td>\n",
       "    </tr>\n",
       "    <tr>\n",
       "      <th>6</th>\n",
       "      <td>2019-07-23</td>\n",
       "      <td>256.709991</td>\n",
       "      <td>260.480011</td>\n",
       "      <td>254.500000</td>\n",
       "      <td>260.170013</td>\n",
       "      <td>260.170013</td>\n",
       "      <td>5023100</td>\n",
       "    </tr>\n",
       "    <tr>\n",
       "      <th>7</th>\n",
       "      <td>2019-07-24</td>\n",
       "      <td>259.170013</td>\n",
       "      <td>266.070007</td>\n",
       "      <td>258.160004</td>\n",
       "      <td>264.880005</td>\n",
       "      <td>264.880005</td>\n",
       "      <td>11072800</td>\n",
       "    </tr>\n",
       "    <tr>\n",
       "      <th>8</th>\n",
       "      <td>2019-07-25</td>\n",
       "      <td>233.500000</td>\n",
       "      <td>234.500000</td>\n",
       "      <td>225.550003</td>\n",
       "      <td>228.820007</td>\n",
       "      <td>228.820007</td>\n",
       "      <td>22418300</td>\n",
       "    </tr>\n",
       "    <tr>\n",
       "      <th>9</th>\n",
       "      <td>2019-07-26</td>\n",
       "      <td>226.919998</td>\n",
       "      <td>230.259995</td>\n",
       "      <td>222.250000</td>\n",
       "      <td>228.039993</td>\n",
       "      <td>228.039993</td>\n",
       "      <td>10027700</td>\n",
       "    </tr>\n",
       "  </tbody>\n",
       "</table>\n",
       "</div>"
      ],
      "text/plain": [
       "         Date        Open        High         Low       Close    AdjClose  \\\n",
       "0  2019-07-15  248.000000  254.419998  244.860001  253.500000  253.500000   \n",
       "1  2019-07-16  249.300003  253.529999  247.929993  252.380005  252.380005   \n",
       "2  2019-07-17  255.669998  258.309998  253.350006  254.860001  254.860001   \n",
       "3  2019-07-18  255.050003  255.750000  251.889999  253.539993  253.539993   \n",
       "4  2019-07-19  255.690002  259.959991  254.619995  258.179993  258.179993   \n",
       "5  2019-07-22  258.750000  262.149994  254.190002  255.679993  255.679993   \n",
       "6  2019-07-23  256.709991  260.480011  254.500000  260.170013  260.170013   \n",
       "7  2019-07-24  259.170013  266.070007  258.160004  264.880005  264.880005   \n",
       "8  2019-07-25  233.500000  234.500000  225.550003  228.820007  228.820007   \n",
       "9  2019-07-26  226.919998  230.259995  222.250000  228.039993  228.039993   \n",
       "\n",
       "     Volume  \n",
       "0  11000100  \n",
       "1   8149000  \n",
       "2   9764700  \n",
       "3   4764500  \n",
       "4   7048400  \n",
       "5   6842400  \n",
       "6   5023100  \n",
       "7  11072800  \n",
       "8  22418300  \n",
       "9  10027700  "
      ]
     },
     "execution_count": 17,
     "metadata": {},
     "output_type": "execute_result"
    }
   ],
   "source": [
    "tesla_df.toPandas().head(10)"
   ]
  },
  {
   "cell_type": "markdown",
   "id": "ec1d7e55-ce49-4566-ad42-0792b7b29b6b",
   "metadata": {},
   "source": [
    "## Loading tesla file and converting it to dataframe"
   ]
  },
  {
   "cell_type": "code",
   "execution_count": 18,
   "id": "aa88f94f-d342-4051-96d9-46823622e39a",
   "metadata": {},
   "outputs": [
    {
     "name": "stdout",
     "output_type": "stream",
     "text": [
      "+----------+----------+----------+----------+----------+----------+--------+\n",
      "|      Date|      Open|      High|       Low|     Close|  AdjClose|  Volume|\n",
      "+----------+----------+----------+----------+----------+----------+--------+\n",
      "|2019-07-15|     248.0|254.419998|244.860001|     253.5|     253.5|11000100|\n",
      "|2019-07-16|249.300003|253.529999|247.929993|252.380005|252.380005| 8149000|\n",
      "|2019-07-17|255.669998|258.309998|253.350006|254.860001|254.860001| 9764700|\n",
      "|2019-07-18|255.050003|    255.75|251.889999|253.539993|253.539993| 4764500|\n",
      "|2019-07-19|255.690002|259.959991|254.619995|258.179993|258.179993| 7048400|\n",
      "|2019-07-22|    258.75|262.149994|254.190002|255.679993|255.679993| 6842400|\n",
      "|2019-07-23|256.709991|260.480011|     254.5|260.170013|260.170013| 5023100|\n",
      "|2019-07-24|259.170013|266.070007|258.160004|264.880005|264.880005|11072800|\n",
      "|2019-07-25|     233.5|     234.5|225.550003|228.820007|228.820007|22418300|\n",
      "|2019-07-26|226.919998|230.259995|    222.25|228.039993|228.039993|10027700|\n",
      "|2019-07-29|227.089996|235.940002|226.029999|235.770004|235.770004| 9273300|\n",
      "|2019-07-30|232.899994|243.360001|232.179993|242.259995|242.259995| 8109000|\n",
      "|2019-07-31|     243.0|246.679993|236.649994|241.610001|241.610001| 9178200|\n",
      "|2019-08-01|242.649994|244.509995|231.770004|233.850006|233.850006| 8259500|\n",
      "|2019-08-02|231.350006|236.270004|229.229996|234.339996|234.339996| 6136500|\n",
      "|2019-08-05|229.600006|231.369995|225.779999|228.320007|228.320007| 7028300|\n",
      "|2019-08-06|231.880005|     232.5|    225.75|    230.75|    230.75| 5564200|\n",
      "|2019-08-07|     226.5|233.570007|225.800003|233.419998|233.419998| 4776500|\n",
      "|2019-08-08|234.449997|239.800003|232.649994|238.300003|238.300003| 5274300|\n",
      "|2019-08-09|236.050003|238.960007|233.809998|235.009995|235.009995| 3898200|\n",
      "+----------+----------+----------+----------+----------+----------+--------+\n",
      "only showing top 20 rows\n",
      "\n"
     ]
    }
   ],
   "source": [
    "tesla_df.show()"
   ]
  },
  {
   "cell_type": "markdown",
   "id": "c51a65c8-bd28-49a6-909b-9ab1ae0d43e4",
   "metadata": {},
   "source": [
    "## Loading Google file and converting it to dataframe"
   ]
  },
  {
   "cell_type": "code",
   "execution_count": 19,
   "id": "960dbdca-1892-4cd8-b216-0d2d42d76686",
   "metadata": {},
   "outputs": [
    {
     "name": "stdout",
     "output_type": "stream",
     "text": [
      "+----------+-----------+-----------+-----------+-----------+-----------+-------+\n",
      "|      Date|       Open|       High|        Low|      Close|   AdjClose| Volume|\n",
      "+----------+-----------+-----------+-----------+-----------+-----------+-------+\n",
      "|2019-07-15|1146.859985|1150.819946|1139.400024|1150.339966|1150.339966| 903800|\n",
      "|2019-07-16|     1146.0|1158.579956|     1145.0|1153.579956|1153.579956|1238800|\n",
      "|2019-07-17|1150.969971|1158.359985| 1145.77002|1146.349976|1146.349976|1170000|\n",
      "|2019-07-18| 1141.73999| 1147.60498| 1132.72998|1146.329956|1146.329956|1291300|\n",
      "|2019-07-19|1148.189941|1151.140015|1129.619995|1130.099976|1130.099976|1647200|\n",
      "|2019-07-22|1133.449951|    1139.25| 1124.23999|1138.069946|1138.069946|1301500|\n",
      "|2019-07-23|     1144.0|1146.900024|1131.800049|1146.209961|1146.209961|1093700|\n",
      "|2019-07-24|1131.900024|     1144.0| 1126.98999|1137.810059|1137.810059|1589800|\n",
      "|2019-07-25|1137.819946|1141.699951|1120.920044|1132.119995|1132.119995|2209800|\n",
      "|2019-07-26|1224.040039|1265.550049|     1224.0|1250.410034|1250.410034|4805800|\n",
      "|2019-07-29|1241.050049|1247.369995| 1228.22998|1239.410034|1239.410034|2223700|\n",
      "|2019-07-30|1225.410034|1234.869995|1223.300049|1225.140015|1225.140015|1453300|\n",
      "|2019-07-31|     1223.0|     1234.0|1207.764038|1216.680054|1216.680054|1725500|\n",
      "|2019-08-01|1214.030029|1234.109985|1205.719971| 1209.01001| 1209.01001|1698500|\n",
      "|2019-08-02| 1200.73999|1206.900024|1188.939941| 1193.98999| 1193.98999|1645100|\n",
      "|2019-08-05|1170.040039| 1175.23999|1140.140015|1152.319946|1152.319946|2597500|\n",
      "|2019-08-06|1163.310059|1179.959961|     1160.0|1169.949951|1169.949951|1709400|\n",
      "|2019-08-07|     1156.0|1178.444946|1149.624023| 1173.98999| 1173.98999|1444300|\n",
      "|2019-08-08|1182.829956| 1205.01001| 1173.02002|1204.800049|1204.800049|1468000|\n",
      "|2019-08-09| 1197.98999|1203.880005|1183.603027| 1188.01001| 1188.01001|1065700|\n",
      "+----------+-----------+-----------+-----------+-----------+-----------+-------+\n",
      "only showing top 20 rows\n",
      "\n"
     ]
    }
   ],
   "source": [
    "google_file = 'GOOG.csv'\n",
    "\n",
    "google_df = sqlContext.read.load(google_file, \n",
    "                      format='com.databricks.spark.csv', \n",
    "                      header='true', \n",
    "                      inferSchema='true')\n",
    "\n",
    "google_df.show()"
   ]
  },
  {
   "cell_type": "markdown",
   "id": "db1386e5-9cbb-48f0-810c-c046db1ecb8b",
   "metadata": {},
   "source": [
    "## Loading Amazon file and converting it to dataframe"
   ]
  },
  {
   "cell_type": "code",
   "execution_count": 20,
   "id": "1d5a7e6b-e4fc-4731-a945-11c816432463",
   "metadata": {},
   "outputs": [
    {
     "name": "stdout",
     "output_type": "stream",
     "text": [
      "+----------+-----------+-----------+-----------+-----------+-----------+-------+\n",
      "|      Date|       Open|       High|        Low|      Close|   AdjClose| Volume|\n",
      "+----------+-----------+-----------+-----------+-----------+-----------+-------+\n",
      "|2019-07-15|2021.400024|2022.900024|2001.550049| 2020.98999| 2020.98999|2981300|\n",
      "|2019-07-16|2010.579956|2026.319946|2001.219971|2009.900024|2009.900024|2618200|\n",
      "|2019-07-17|2007.050049|     2012.0|1992.030029|1992.030029|1992.030029|2558800|\n",
      "|2019-07-18| 1980.01001|     1987.5|1951.550049|1977.900024|1977.900024|3504300|\n",
      "|2019-07-19|1991.209961|     1996.0| 1962.22998| 1964.52002| 1964.52002|3185600|\n",
      "|2019-07-22|1971.140015|     1989.0| 1958.26001|1985.630005|1985.630005|2900000|\n",
      "|2019-07-23| 1995.98999|1997.790039|1973.130005| 1994.48999| 1994.48999|2703500|\n",
      "|2019-07-24|1969.300049|2001.300049|1965.869995|2000.810059|2000.810059|2631300|\n",
      "|2019-07-25|     2001.0|2001.199951|1972.719971|1973.819946|1973.819946|4136500|\n",
      "|2019-07-26|     1942.0|1950.900024| 1924.51001|1943.050049|1943.050049|4927100|\n",
      "|2019-07-29|     1930.0| 1932.22998|1890.540039|1912.449951|1912.449951|4493200|\n",
      "|2019-07-30|1891.119995|1909.890015| 1883.47998|1898.530029|1898.530029|2910900|\n",
      "|2019-07-31|1898.109985|1899.550049|1849.439941|1866.780029|1866.780029|4470700|\n",
      "|2019-08-01|1871.719971|1897.920044| 1844.01001|1855.319946|1855.319946|4713300|\n",
      "|2019-08-02|1845.069946|1846.359985| 1808.02002| 1823.23999| 1823.23999|4956200|\n",
      "|2019-08-05|1770.219971|1788.670044|1748.780029|1765.130005|1765.130005|6058200|\n",
      "|2019-08-06| 1792.22998| 1793.77002|1753.400024|1787.829956|1787.829956|5070300|\n",
      "|2019-08-07| 1773.98999|1798.930054|     1757.0|1793.400024|1793.400024|4526900|\n",
      "|2019-08-08|     1806.0| 1834.26001|1798.109985|1832.890015|1832.890015|3701200|\n",
      "|2019-08-09|1828.949951|1831.089966|1802.219971|1807.579956|1807.579956|2879800|\n",
      "+----------+-----------+-----------+-----------+-----------+-----------+-------+\n",
      "only showing top 20 rows\n",
      "\n"
     ]
    }
   ],
   "source": [
    "amazon_file = 'AMZN.csv'\n",
    "\n",
    "amazon_df = sqlContext.read.load(amazon_file, \n",
    "                      format='com.databricks.spark.csv', \n",
    "                      header='true', \n",
    "                      inferSchema='true')\n",
    "\n",
    "amazon_df.show()"
   ]
  },
  {
   "cell_type": "markdown",
   "id": "62164705-8175-465a-9e72-225ef58cb064",
   "metadata": {},
   "source": [
    "## Average closing price per year for AMZN"
   ]
  },
  {
   "cell_type": "code",
   "execution_count": 21,
   "id": "5c1be749-5190-42ce-a6c8-2f18154763e5",
   "metadata": {},
   "outputs": [
    {
     "name": "stdout",
     "output_type": "stream",
     "text": [
      "+----+------------------+\n",
      "|year|     avg(AdjClose)|\n",
      "+----+------------------+\n",
      "|2019|1800.6161329411755|\n",
      "|2020| 2236.414478798507|\n",
      "+----+------------------+\n",
      "\n"
     ]
    }
   ],
   "source": [
    "import datetime\n",
    "from pyspark.sql.functions import year, month, dayofmonth\n",
    "\n",
    "amazon_df.select(year(\"Date\").alias(\"year\"), \"AdjClose\").groupby(\"year\").avg(\"AdjClose\").sort(\"year\").show()"
   ]
  },
  {
   "cell_type": "markdown",
   "id": "28f76957-5dfe-4dc5-aa92-4fa0ae2558c0",
   "metadata": {},
   "source": [
    "## Compute the average closing price per month for amazon stock"
   ]
  },
  {
   "cell_type": "code",
   "execution_count": 22,
   "id": "c91ea23b-4dec-4cbe-bd10-d585b2c6d587",
   "metadata": {},
   "outputs": [
    {
     "name": "stdout",
     "output_type": "stream",
     "text": [
      "+----+-----+------------------+\n",
      "|year|month|     avg(AdjClose)|\n",
      "+----+-----+------------------+\n",
      "|2019|    7|1964.6846265384618|\n",
      "|2019|    8|1793.6027220909093|\n",
      "|2019|    9|     1799.12099615|\n",
      "|2019|   10|1752.3317498695653|\n",
      "|2019|   11|      1774.2939941|\n",
      "|2019|   12|1785.7728446190476|\n",
      "|2020|    1|1884.2376128571425|\n",
      "|2020|    2|2066.1752672631574|\n",
      "|2020|    3|1872.3104358636365|\n",
      "|2020|    4|2228.7052408571426|\n",
      "|2020|    5|2394.1840209499996|\n",
      "|2020|    6|      2613.5454545|\n",
      "|2020|    7| 3053.100016222222|\n",
      "+----+-----+------------------+\n",
      "\n"
     ]
    }
   ],
   "source": [
    "amazon_df.select(year(\"Date\").alias(\"year\"),\n",
    "                month(\"Date\").alias(\"month\"),\n",
    "                \"AdjClose\").groupby(\"year\", \"month\").avg(\"AdjClose\").sort(\"year\", \"month\").show()"
   ]
  },
  {
   "cell_type": "markdown",
   "id": "4d31e6e4-5c7a-4465-9f45-c50649b1eaa3",
   "metadata": {},
   "source": [
    "# Register the DataFrames as  temp views"
   ]
  },
  {
   "cell_type": "code",
   "execution_count": 23,
   "id": "fd5c9e3f-b901-42b5-9d37-075c2be26fa3",
   "metadata": {},
   "outputs": [
    {
     "name": "stderr",
     "output_type": "stream",
     "text": [
      "c:\\users\\bhupi\\pyspark_tutorial\\myenv\\lib\\site-packages\\pyspark\\sql\\dataframe.py:329: FutureWarning: Deprecated in 2.0, use createOrReplaceTempView instead.\n",
      "  warnings.warn(\"Deprecated in 2.0, use createOrReplaceTempView instead.\", FutureWarning)\n"
     ]
    }
   ],
   "source": [
    "amazon_df.registerTempTable(\"amazon_stocks\")\n",
    "google_df.registerTempTable(\"google_stocks\")\n",
    "tesla_df.registerTempTable(\"tesla_stocks\")"
   ]
  },
  {
   "cell_type": "markdown",
   "id": "33d58d99-fb64-447f-8cfb-dccd40993b13",
   "metadata": {},
   "source": [
    "# Calculate and display the average closing price per month for amazon stock ordered by year,month "
   ]
  },
  {
   "cell_type": "code",
   "execution_count": 24,
   "id": "19801071-05f0-4965-8824-b47000368415",
   "metadata": {},
   "outputs": [
    {
     "name": "stdout",
     "output_type": "stream",
     "text": [
      "+----+---+------------------+\n",
      "|  yr| mo|     avg(AdjClose)|\n",
      "+----+---+------------------+\n",
      "|2019| 10|1752.3317498695653|\n",
      "|2020|  6|      2613.5454545|\n",
      "|2020|  3|1872.3104358636365|\n",
      "|2019|  8|1793.6027220909093|\n",
      "|2020|  4|2228.7052408571426|\n",
      "|2020|  1|1884.2376128571425|\n",
      "|2019|  9|     1799.12099615|\n",
      "|2019| 12|1785.7728446190476|\n",
      "|2020|  7| 3053.100016222222|\n",
      "|2020|  2|2066.1752672631574|\n",
      "|2019|  7|1964.6846265384618|\n",
      "|2019| 11|      1774.2939941|\n",
      "|2020|  5|2394.1840209499996|\n",
      "+----+---+------------------+\n",
      "\n"
     ]
    }
   ],
   "source": [
    "sqlContext.sql(\"\"\"SELECT year(amazon_stocks.Date) as yr, \\\n",
    "                month(amazon_stocks.Date) as mo, \\\n",
    "                avg(amazon_stocks.AdjClose) \\\n",
    "                from amazon_stocks \\\n",
    "                group By year(amazon_stocks.Date), month(amazon_stocks.Date)\"\"\").show()\n",
    "\n"
   ]
  },
  {
   "cell_type": "markdown",
   "id": "17dadb59-4eec-499b-abdd-e900f7521886",
   "metadata": {},
   "source": [
    "# When did the closing price for google stock go up or down by more than 2 dollars?"
   ]
  },
  {
   "cell_type": "code",
   "execution_count": 25,
   "id": "8fe19cea-29ce-4f25-b3a1-a6b2bd74a1f5",
   "metadata": {},
   "outputs": [
    {
     "name": "stdout",
     "output_type": "stream",
     "text": [
      "+----------+-----------+-----------+------------------+\n",
      "|      Date|       Open|      Close|              diff|\n",
      "+----------+-----------+-----------+------------------+\n",
      "|2019-07-16|     1146.0|1153.579956| 7.579956000000038|\n",
      "|2019-07-17|1150.969971|1146.349976| 4.619995000000017|\n",
      "|2019-07-18| 1141.73999|1146.329956| 4.589966000000004|\n",
      "|2019-07-19|1148.189941|1130.099976| 18.08996500000012|\n",
      "|2019-07-22|1133.449951|1138.069946| 4.619995000000017|\n",
      "|2019-07-24|1131.900024|1137.810059|  5.91003499999988|\n",
      "|2019-07-25|1137.819946|1132.119995|5.6999510000000555|\n",
      "|2019-07-26|1224.040039|1250.410034|26.369995000000017|\n",
      "|2019-07-31|     1223.0|1216.680054| 6.319946000000073|\n",
      "|2019-08-01|1214.030029| 1209.01001|5.0200190000000475|\n",
      "|2019-08-02| 1200.73999| 1193.98999|              6.75|\n",
      "|2019-08-05|1170.040039|1152.319946|17.720092999999906|\n",
      "|2019-08-06|1163.310059|1169.949951| 6.639892000000145|\n",
      "|2019-08-07|     1156.0| 1173.98999|17.989990000000034|\n",
      "|2019-08-08|1182.829956|1204.800049|21.970092999999906|\n",
      "|2019-08-09| 1197.98999| 1188.01001| 9.979980000000069|\n",
      "|2019-08-12|1179.209961|1174.709961|               4.5|\n",
      "|2019-08-13|1171.459961| 1197.27002| 25.81005899999991|\n",
      "|2019-08-14|1176.310059|1164.290039|12.020019999999931|\n",
      "|2019-08-19|1190.089966|1198.449951| 8.359985000000052|\n",
      "+----------+-----------+-----------+------------------+\n",
      "only showing top 20 rows\n",
      "\n"
     ]
    }
   ],
   "source": [
    "\n",
    "sqlContext.sql(\"SELECT google_stocks.Date, google_stocks.Open, google_stocks.Close, abs(google_stocks.Close - google_stocks.Open) as diff \\\n",
    "                FROM google_stocks \\\n",
    "                WHERE abs(google_stocks.Close - google_stocks.Open) > 4 \").show()\n",
    "\n"
   ]
  },
  {
   "cell_type": "markdown",
   "id": "089c6d72-0269-49ad-b8bc-35b09ef1fe21",
   "metadata": {},
   "source": [
    "# What was the max, min closing price for Tesla stock by Year?"
   ]
  },
  {
   "cell_type": "code",
   "execution_count": 26,
   "id": "5c1ccf7e-ef7a-4dc8-a773-c096b980a2fa",
   "metadata": {},
   "outputs": [
    {
     "name": "stdout",
     "output_type": "stream",
     "text": [
      "+----+-------------+-------------+\n",
      "|  yr|max(AdjClose)|min(AdjClose)|\n",
      "+----+-------------+-------------+\n",
      "|2019|   430.940002|   211.399994|\n",
      "|2020|  1544.650024|   361.220001|\n",
      "+----+-------------+-------------+\n",
      "\n"
     ]
    }
   ],
   "source": [
    "sqlContext.sql(\"SELECT year(tesla_stocks.Date) as yr, max(tesla_stocks.AdjClose), min(tesla_stocks.AdjClose) \\\n",
    "                FROM tesla_stocks \\\n",
    "                group By year(tesla_stocks.Date)\").show()\n"
   ]
  },
  {
   "cell_type": "markdown",
   "id": "4932fc61-472c-4a26-b64f-e10a3979b567",
   "metadata": {},
   "source": [
    "## How to check physical plan of Spark SQL "
   ]
  },
  {
   "cell_type": "code",
   "execution_count": 27,
   "id": "f2bf8b1c-b7ea-43c4-9a08-9b380ba56026",
   "metadata": {},
   "outputs": [
    {
     "name": "stdout",
     "output_type": "stream",
     "text": [
      "== Physical Plan ==\n",
      "AdaptiveSparkPlan isFinalPlan=false\n",
      "+- HashAggregate(keys=[_groupingexpression#404], functions=[max(AdjClose#35), min(AdjClose#35)])\n",
      "   +- Exchange hashpartitioning(_groupingexpression#404, 200), ENSURE_REQUIREMENTS, [plan_id=395]\n",
      "      +- HashAggregate(keys=[_groupingexpression#404], functions=[partial_max(AdjClose#35), partial_min(AdjClose#35)])\n",
      "         +- Project [AdjClose#35, year(Date#30) AS _groupingexpression#404]\n",
      "            +- FileScan csv [Date#30,AdjClose#35] Batched: false, DataFilters: [], Format: CSV, Location: InMemoryFileIndex(1 paths)[file:/C:/Users/bhupi/PySpark_Tutorial/myenv/Scripts/TSLA.csv], PartitionFilters: [], PushedFilters: [], ReadSchema: struct<Date:date,AdjClose:double>\n",
      "\n",
      "\n"
     ]
    }
   ],
   "source": [
    "sqlContext.sql(\"SELECT year(tesla_stocks.Date) as yr, max(tesla_stocks.AdjClose), min(tesla_stocks.AdjClose) \\\n",
    "                FROM tesla_stocks \\\n",
    "                group By year(tesla_stocks.Date)\").explain()\n",
    "\n"
   ]
  },
  {
   "cell_type": "markdown",
   "id": "f7d2311f-2094-4d38-acd7-84f341c46c2a",
   "metadata": {},
   "source": [
    "# Join Tesla, Google, Amazon stock closing prices for comparison"
   ]
  },
  {
   "cell_type": "code",
   "execution_count": 28,
   "id": "f49ca6d6-c028-4ae9-ad6a-344f6df28127",
   "metadata": {},
   "outputs": [
    {
     "name": "stdout",
     "output_type": "stream",
     "text": [
      "+----------+----------+-----------+-----------+\n",
      "|      Date|teslaclose|amazonclose|googleclose|\n",
      "+----------+----------+-----------+-----------+\n",
      "|2019-07-15|     253.5| 2020.98999|1150.339966|\n",
      "|2019-07-16|252.380005|2009.900024|1153.579956|\n",
      "|2019-07-17|254.860001|1992.030029|1146.349976|\n",
      "|2019-07-18|253.539993|1977.900024|1146.329956|\n",
      "|2019-07-19|258.179993| 1964.52002|1130.099976|\n",
      "|2019-07-22|255.679993|1985.630005|1138.069946|\n",
      "|2019-07-23|260.170013| 1994.48999|1146.209961|\n",
      "|2019-07-24|264.880005|2000.810059|1137.810059|\n",
      "|2019-07-25|228.820007|1973.819946|1132.119995|\n",
      "|2019-07-26|228.039993|1943.050049|1250.410034|\n",
      "|2019-07-29|235.770004|1912.449951|1239.410034|\n",
      "|2019-07-30|242.259995|1898.530029|1225.140015|\n",
      "|2019-07-31|241.610001|1866.780029|1216.680054|\n",
      "|2019-08-01|233.850006|1855.319946| 1209.01001|\n",
      "|2019-08-02|234.339996| 1823.23999| 1193.98999|\n",
      "|2019-08-05|228.320007|1765.130005|1152.319946|\n",
      "|2019-08-06|    230.75|1787.829956|1169.949951|\n",
      "|2019-08-07|233.419998|1793.400024| 1173.98999|\n",
      "|2019-08-08|238.300003|1832.890015|1204.800049|\n",
      "|2019-08-09|235.009995|1807.579956| 1188.01001|\n",
      "+----------+----------+-----------+-----------+\n",
      "only showing top 20 rows\n",
      "\n"
     ]
    }
   ],
   "source": [
    "joinclose=sqlContext.sql(\"SELECT tesla_stocks.Date, \\\n",
    "                          tesla_stocks.AdjClose as teslaclose, \\\n",
    "                          amazon_stocks.AdjClose as amazonclose, \\\n",
    "                          google_stocks.AdjClose as googleclose \\\n",
    "                          from tesla_stocks \\\n",
    "                          join google_stocks on tesla_stocks.Date = google_stocks.Date \\\n",
    "                          join amazon_stocks on tesla_stocks.Date = amazon_stocks.Date\").cache()\n",
    "\n",
    "joinclose.show()\n",
    "\n",
    "joinclose.registerTempTable(\"joinclose\")"
   ]
  },
  {
   "cell_type": "markdown",
   "id": "8d5a0819-82a3-4fdf-a754-247909ea7775",
   "metadata": {},
   "source": [
    "## Join Tesla, Google, Amazon stock closing prices for comparison yearly"
   ]
  },
  {
   "cell_type": "code",
   "execution_count": 29,
   "id": "42cd844c-3469-4b65-8168-4e90ea5124e0",
   "metadata": {},
   "outputs": [
    {
     "name": "stdout",
     "output_type": "stream",
     "text": [
      "+----+------------------+------------------+------------------+\n",
      "|  yr|        teslaclose|       amazonclose|       googleclose|\n",
      "+----+------------------+------------------+------------------+\n",
      "|2019|283.62126070588243|1800.6161329411755|1245.3833654621849|\n",
      "|2020| 761.8206739179104| 2236.414478798507|1362.8286906865671|\n",
      "+----+------------------+------------------+------------------+\n",
      "\n"
     ]
    }
   ],
   "source": [
    "sqlContext.sql(\"SELECT year(joinclose.Date) as yr, \\\n",
    "                avg(joinclose.teslaclose) as teslaclose, \\\n",
    "                avg(joinclose.amazonclose) as amazonclose, \\\n",
    "                avg(joinclose.googleclose) as googleclose \\\n",
    "                from joinclose \\\n",
    "                group By year(joinclose.Date) \\\n",
    "                order by year(joinclose.Date)\").show()\n",
    "\n"
   ]
  },
  {
   "cell_type": "markdown",
   "id": "278d15cc-a73d-4e7f-911f-66b407e3d1d5",
   "metadata": {},
   "source": [
    "## Creating dataframe by joining all the tables"
   ]
  },
  {
   "cell_type": "code",
   "execution_count": 30,
   "id": "af7de8dd-3282-480f-a5a2-23529fd5401c",
   "metadata": {},
   "outputs": [],
   "source": [
    "joinclose_df = sqlContext.sql(\"SELECT tesla_stocks.Date, \\\n",
    "                          tesla_stocks.AdjClose as teslaclose, \\\n",
    "                          amazon_stocks.AdjClose as amazonclose, \\\n",
    "                          google_stocks.AdjClose as googleclose \\\n",
    "                          from tesla_stocks \\\n",
    "                          join google_stocks on tesla_stocks.Date = google_stocks.Date \\\n",
    "                          join amazon_stocks on tesla_stocks.Date = amazon_stocks.Date\")"
   ]
  },
  {
   "cell_type": "code",
   "execution_count": 31,
   "id": "cf34a375-f49f-45b5-9b51-139cc3e0d550",
   "metadata": {},
   "outputs": [
    {
     "name": "stdout",
     "output_type": "stream",
     "text": [
      "+----------+----------+-----------+-----------+\n",
      "|      Date|teslaclose|amazonclose|googleclose|\n",
      "+----------+----------+-----------+-----------+\n",
      "|2019-07-15|     253.5| 2020.98999|1150.339966|\n",
      "|2019-07-16|252.380005|2009.900024|1153.579956|\n",
      "|2019-07-17|254.860001|1992.030029|1146.349976|\n",
      "|2019-07-18|253.539993|1977.900024|1146.329956|\n",
      "|2019-07-19|258.179993| 1964.52002|1130.099976|\n",
      "|2019-07-22|255.679993|1985.630005|1138.069946|\n",
      "|2019-07-23|260.170013| 1994.48999|1146.209961|\n",
      "|2019-07-24|264.880005|2000.810059|1137.810059|\n",
      "|2019-07-25|228.820007|1973.819946|1132.119995|\n",
      "|2019-07-26|228.039993|1943.050049|1250.410034|\n",
      "|2019-07-29|235.770004|1912.449951|1239.410034|\n",
      "|2019-07-30|242.259995|1898.530029|1225.140015|\n",
      "|2019-07-31|241.610001|1866.780029|1216.680054|\n",
      "|2019-08-01|233.850006|1855.319946| 1209.01001|\n",
      "|2019-08-02|234.339996| 1823.23999| 1193.98999|\n",
      "|2019-08-05|228.320007|1765.130005|1152.319946|\n",
      "|2019-08-06|    230.75|1787.829956|1169.949951|\n",
      "|2019-08-07|233.419998|1793.400024| 1173.98999|\n",
      "|2019-08-08|238.300003|1832.890015|1204.800049|\n",
      "|2019-08-09|235.009995|1807.579956| 1188.01001|\n",
      "+----------+----------+-----------+-----------+\n",
      "only showing top 20 rows\n",
      "\n"
     ]
    }
   ],
   "source": [
    "joinclose_df.show()"
   ]
  },
  {
   "cell_type": "markdown",
   "id": "c2bd27ec-4df3-45d8-9280-3de87414c9b2",
   "metadata": {},
   "source": [
    "## Saving dataframe as parquet file"
   ]
  },
  {
   "cell_type": "code",
   "execution_count": 32,
   "id": "b1bb430a-c135-4742-b533-b1b185497eaf",
   "metadata": {},
   "outputs": [],
   "source": [
    "joinclose_df.write.format(\"parquet\").save(\"joinStock.parquet\")"
   ]
  },
  {
   "cell_type": "code",
   "execution_count": 33,
   "id": "0f447c6d-26c1-4965-a058-9965fc4666f3",
   "metadata": {},
   "outputs": [],
   "source": [
    "final_df = sqlContext.read.parquet(\"joinStock.parquet\")"
   ]
  },
  {
   "cell_type": "code",
   "execution_count": 34,
   "id": "034b9e66-4b97-4e0f-b632-6d0324f9557d",
   "metadata": {},
   "outputs": [
    {
     "name": "stdout",
     "output_type": "stream",
     "text": [
      "+----------+----------+-----------+-----------+\n",
      "|      Date|teslaclose|amazonclose|googleclose|\n",
      "+----------+----------+-----------+-----------+\n",
      "|2019-07-15|     253.5| 2020.98999|1150.339966|\n",
      "|2019-07-16|252.380005|2009.900024|1153.579956|\n",
      "|2019-07-17|254.860001|1992.030029|1146.349976|\n",
      "|2019-07-18|253.539993|1977.900024|1146.329956|\n",
      "|2019-07-19|258.179993| 1964.52002|1130.099976|\n",
      "|2019-07-22|255.679993|1985.630005|1138.069946|\n",
      "|2019-07-23|260.170013| 1994.48999|1146.209961|\n",
      "|2019-07-24|264.880005|2000.810059|1137.810059|\n",
      "|2019-07-25|228.820007|1973.819946|1132.119995|\n",
      "|2019-07-26|228.039993|1943.050049|1250.410034|\n",
      "|2019-07-29|235.770004|1912.449951|1239.410034|\n",
      "|2019-07-30|242.259995|1898.530029|1225.140015|\n",
      "|2019-07-31|241.610001|1866.780029|1216.680054|\n",
      "|2019-08-01|233.850006|1855.319946| 1209.01001|\n",
      "|2019-08-02|234.339996| 1823.23999| 1193.98999|\n",
      "|2019-08-05|228.320007|1765.130005|1152.319946|\n",
      "|2019-08-06|    230.75|1787.829956|1169.949951|\n",
      "|2019-08-07|233.419998|1793.400024| 1173.98999|\n",
      "|2019-08-08|238.300003|1832.890015|1204.800049|\n",
      "|2019-08-09|235.009995|1807.579956| 1188.01001|\n",
      "+----------+----------+-----------+-----------+\n",
      "only showing top 20 rows\n",
      "\n"
     ]
    }
   ],
   "source": [
    "final_df.show()"
   ]
  }
 ],
 "metadata": {
  "kernelspec": {
   "display_name": "Python 3 (ipykernel)",
   "language": "python",
   "name": "python3"
  },
  "language_info": {
   "codemirror_mode": {
    "name": "ipython",
    "version": 3
   },
   "file_extension": ".py",
   "mimetype": "text/x-python",
   "name": "python",
   "nbconvert_exporter": "python",
   "pygments_lexer": "ipython3",
   "version": "3.9.1"
  }
 },
 "nbformat": 4,
 "nbformat_minor": 5
}
